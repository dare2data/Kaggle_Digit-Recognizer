{
 "cells": [
  {
   "cell_type": "code",
   "execution_count": 6,
   "metadata": {
    "collapsed": true
   },
   "outputs": [],
   "source": [
    "import pandas as pd\n",
    "import numpy as np\n",
    "import tensorflow as tf\n",
    "\n",
    "import warnings\n",
    "warnings.filterwarnings(\"ignore\")\n",
    "\n",
    "from IPython.core.interactiveshell import  InteractiveShell\n",
    "InteractiveShell.ast_node_interactivity='all'"
   ]
  },
  {
   "cell_type": "code",
   "execution_count": 2,
   "metadata": {},
   "outputs": [
    {
     "name": "stdout",
     "output_type": "stream",
     "text": [
      "Extracting /home/ashwani/Desktop/Python/Deep_Learning/dataset/MNIST/train-images-idx3-ubyte.gz\n",
      "Extracting /home/ashwani/Desktop/Python/Deep_Learning/dataset/MNIST/train-labels-idx1-ubyte.gz\n",
      "Extracting /home/ashwani/Desktop/Python/Deep_Learning/dataset/MNIST/t10k-images-idx3-ubyte.gz\n",
      "Extracting /home/ashwani/Desktop/Python/Deep_Learning/dataset/MNIST/t10k-labels-idx1-ubyte.gz\n"
     ]
    }
   ],
   "source": [
    "from tensorflow.examples.tutorials.mnist import input_data\n",
    "mnist=input_data.read_data_sets('/home/ashwani/Desktop/Python/Deep_Learning/dataset/MNIST', one_hot=True)"
   ]
  },
  {
   "cell_type": "code",
   "execution_count": 3,
   "metadata": {},
   "outputs": [
    {
     "name": "stderr",
     "output_type": "stream",
     "text": [
      "Using TensorFlow backend.\n"
     ]
    }
   ],
   "source": [
    "from sklearn.metrics import accuracy_score\n",
    "from keras.models import Sequential\n",
    "from keras.layers import Dense, Activation, Dropout"
   ]
  },
  {
   "cell_type": "code",
   "execution_count": 5,
   "metadata": {
    "collapsed": true
   },
   "outputs": [],
   "source": [
    "n_input_node= 784\n",
    "n_nodes_hl1=600\n",
    "n_nodes_hl2=400\n",
    "n_nodes_hl3=300\n",
    "n_output_node = 10\n",
    "\n",
    "epochs =10\n",
    "batch_size = 100\n",
    "\n",
    "x_train=mnist.train.images\n",
    "y_train=mnist.train.labels\n",
    "x_test=mnist.test.images\n",
    "y_test=mnist.test.labels"
   ]
  },
  {
   "cell_type": "code",
   "execution_count": 9,
   "metadata": {},
   "outputs": [
    {
     "name": "stdout",
     "output_type": "stream",
     "text": [
      "Train on 55000 samples, validate on 10000 samples\n",
      "Epoch 1/10\n",
      "55000/55000 [==============================] - 15s - loss: 0.2213 - acc: 0.9329 - val_loss: 0.1163 - val_acc: 0.9636\n",
      "Epoch 2/10\n",
      "55000/55000 [==============================] - 14s - loss: 0.0840 - acc: 0.9739 - val_loss: 0.0907 - val_acc: 0.9716\n",
      "Epoch 3/10\n",
      "55000/55000 [==============================] - 16s - loss: 0.0567 - acc: 0.9818 - val_loss: 0.0819 - val_acc: 0.9755\n",
      "Epoch 4/10\n",
      "55000/55000 [==============================] - 19s - loss: 0.0430 - acc: 0.9859 - val_loss: 0.0704 - val_acc: 0.9789\n",
      "Epoch 5/10\n",
      "55000/55000 [==============================] - 16s - loss: 0.0335 - acc: 0.9889 - val_loss: 0.0792 - val_acc: 0.9780\n",
      "Epoch 6/10\n",
      "55000/55000 [==============================] - 19s - loss: 0.0288 - acc: 0.9911 - val_loss: 0.0723 - val_acc: 0.9794\n",
      "Epoch 7/10\n",
      "55000/55000 [==============================] - 19s - loss: 0.0235 - acc: 0.9923 - val_loss: 0.0754 - val_acc: 0.9794\n",
      "Epoch 8/10\n",
      "55000/55000 [==============================] - 17s - loss: 0.0208 - acc: 0.9930 - val_loss: 0.0727 - val_acc: 0.9809\n",
      "Epoch 9/10\n",
      "55000/55000 [==============================] - 19s - loss: 0.0192 - acc: 0.9937 - val_loss: 0.0708 - val_acc: 0.9832\n",
      "Epoch 10/10\n",
      "55000/55000 [==============================] - 19s - loss: 0.0167 - acc: 0.9952 - val_loss: 0.0689 - val_acc: 0.9824\n"
     ]
    }
   ],
   "source": [
    "model = Sequential([\n",
    " Dense(output_dim=n_nodes_hl1, input_dim=n_input_node, activation='relu'),\n",
    " Dense(output_dim=n_nodes_hl3, input_dim=n_nodes_hl1, activation='relu'),\n",
    " Dense(output_dim=n_nodes_hl3, input_dim=n_nodes_hl2, activation='relu'),\n",
    "    \n",
    " Dense(output_dim=n_output_node, input_dim=n_nodes_hl3, activation='softmax')\n",
    " ])\n",
    "\n",
    "model.compile(loss='categorical_crossentropy', optimizer='adam', metrics=['accuracy'])\n",
    "trained_model= model.fit(x_train, y_train, nb_epoch=epochs, batch_size=batch_size,\n",
    "                             validation_data=(x_test, y_test))"
   ]
  },
  {
   "cell_type": "markdown",
   "metadata": {},
   "source": [
    "### Result\n",
    "Getting 98.32% accuracy using Keras-Tensorflow."
   ]
  }
 ],
 "metadata": {
  "kernelspec": {
   "display_name": "Python 3",
   "language": "python",
   "name": "python3"
  },
  "language_info": {
   "codemirror_mode": {
    "name": "ipython",
    "version": 3
   },
   "file_extension": ".py",
   "mimetype": "text/x-python",
   "name": "python",
   "nbconvert_exporter": "python",
   "pygments_lexer": "ipython3",
   "version": "3.6.1"
  }
 },
 "nbformat": 4,
 "nbformat_minor": 2
}
